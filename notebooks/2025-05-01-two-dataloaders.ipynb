{
 "cells": [
  {
   "cell_type": "code",
   "execution_count": 1,
   "id": "e5e36105",
   "metadata": {},
   "outputs": [],
   "source": [
    "%load_ext autoreload\n",
    "%autoreload 2"
   ]
  },
  {
   "cell_type": "code",
   "execution_count": 2,
   "id": "f436961d",
   "metadata": {},
   "outputs": [],
   "source": [
    "import torch\n",
    "import torch.nn as nn\n",
    "import numpy as np\n",
    "import pytorch_lightning as pl\n",
    "from pytorch_lightning import Trainer\n",
    "from pytorch_lightning.loggers import WandbLogger\n",
    "from pytorch_lightning.callbacks import LearningRateMonitor\n",
    "import argparse\n",
    "from datetime import datetime\n",
    "from pathlib import Path\n",
    "from typing import Dict, Any, Optional\n",
    "from abc import abstractmethod\n",
    "from warnings import warn\n",
    "\n",
    "from polarbert.pretraining import (\n",
    "    load_and_process_config,\n",
    "    setup_callbacks,\n",
    "    get_dataloaders,\n",
    "    update_training_steps,\n",
    "    compute_batch_params,\n",
    "    default_transform,\n",
    "    add_random_time_offset,\n",
    ")\n",
    "\n",
    "from polarbert.loss_functions import angles_to_unit_vector, angular_dist_score_unit_vectors\n",
    "from typing import Dict, Tuple, Any, Optional, Callable\n",
    "from torch.utils.data import DataLoader"
   ]
  },
  {
   "cell_type": "code",
   "execution_count": 9,
   "id": "d8c75223",
   "metadata": {},
   "outputs": [],
   "source": [
    "from polarbert.dataloader_utils import (\n",
    "    get_dataloaders, \n",
    "    target_transform_prometheus, \n",
    "    target_transform_kaggle,\n",
    "    default_transform)\n",
    "\n",
    "from polarbert.config import PolarBertConfig"
   ]
  },
  {
   "cell_type": "code",
   "execution_count": 10,
   "id": "430f3195",
   "metadata": {},
   "outputs": [
    {
     "name": "stdout",
     "output_type": "stream",
     "text": [
      "Loading configuration from: /groups/pheno/inar/PolarBERT/configs/te_finetuning_combined.yaml\n",
      "Validating configuration...\n",
      "Configuration validation passed (with potential warnings).\n"
     ]
    },
    {
     "name": "stderr",
     "output_type": "stream",
     "text": [
      "/lustre/hpc/pheno/inar/PolarBERT/src/polarbert/config.py:40: UserWarning: In DataConfig: Unexpected keys found in config dictionary and will be ignored: {'prometheus_dir'}\n",
      "  warnings.warn(\n"
     ]
    }
   ],
   "source": [
    "config = PolarBertConfig.from_yaml('/groups/pheno/inar/PolarBERT/configs/te_finetuning_combined.yaml')"
   ]
  },
  {
   "cell_type": "code",
   "execution_count": 11,
   "id": "f53a796b",
   "metadata": {},
   "outputs": [],
   "source": [
    "kaggle_train, kaggle_val = get_dataloaders(\n",
    "    config,\n",
    "    dataset_type='kaggle',\n",
    "    transform=default_transform,\n",
    "    target_transform=target_transform_kaggle\n",
    ")\n",
    "\n",
    "prometheus_train, prometheus_val = get_dataloaders(\n",
    "    config,\n",
    "    dataset_type='prometheus',\n",
    "    transform=default_transform,\n",
    "    target_transform=target_transform_prometheus\n",
    ")"
   ]
  },
  {
   "cell_type": "code",
   "execution_count": 12,
   "id": "12aa2b9e",
   "metadata": {},
   "outputs": [
    {
     "data": {
      "text/plain": [
       "(96, 96, 96, 96)"
      ]
     },
     "execution_count": 12,
     "metadata": {},
     "output_type": "execute_result"
    }
   ],
   "source": [
    "len(kaggle_train), len(kaggle_val), len(prometheus_train), len(prometheus_val)"
   ]
  },
  {
   "cell_type": "code",
   "execution_count": 13,
   "id": "de7a87ba",
   "metadata": {},
   "outputs": [],
   "source": [
    "from polarbert.time_embed_polarbert import PolarBertModel"
   ]
  },
  {
   "cell_type": "code",
   "execution_count": 14,
   "id": "7b531f1e",
   "metadata": {},
   "outputs": [
    {
     "name": "stdout",
     "output_type": "stream",
     "text": [
      "INFO: Concatenated embeddings directly match model embedding dim. No projection layer used.\n"
     ]
    }
   ],
   "source": [
    "model = PolarBertModel(config)"
   ]
  },
  {
   "cell_type": "code",
   "execution_count": 15,
   "id": "11f3b8ad",
   "metadata": {},
   "outputs": [],
   "source": [
    "batch_kaggle = next(iter(kaggle_train))\n",
    "batch_prometheus = next(iter(prometheus_train))"
   ]
  },
  {
   "cell_type": "code",
   "execution_count": 17,
   "id": "7add09d0",
   "metadata": {},
   "outputs": [
    {
     "data": {
      "text/plain": [
       "(torch.Size([1024, 127, 4]),\n",
       " torch.Size([1024]),\n",
       " torch.Size([1024, 2]),\n",
       " torch.Size([1024]))"
      ]
     },
     "execution_count": 17,
     "metadata": {},
     "output_type": "execute_result"
    }
   ],
   "source": [
    "(x, l), (y, c) = batch_kaggle\n",
    "x.shape, l.shape, y.shape, c.shape"
   ]
  },
  {
   "cell_type": "code",
   "execution_count": 18,
   "id": "48f06211",
   "metadata": {},
   "outputs": [
    {
     "data": {
      "text/plain": [
       "(torch.Size([1024, 127, 4]),\n",
       " torch.Size([1024]),\n",
       " torch.Size([1024, 2]),\n",
       " torch.Size([1024]))"
      ]
     },
     "execution_count": 18,
     "metadata": {},
     "output_type": "execute_result"
    }
   ],
   "source": [
    "(x, l), (y, c) = batch_prometheus\n",
    "x.shape, l.shape, y.shape, c.shape"
   ]
  },
  {
   "cell_type": "code",
   "execution_count": 21,
   "id": "4c069874",
   "metadata": {},
   "outputs": [
    {
     "data": {
      "text/plain": [
       "(tensor([[[-7.2651e-01, -8.8787e-01,  2.1512e-02,  ..., -1.4985e-01,\n",
       "            2.8236e-01,  4.3037e-02],\n",
       "          [-1.1994e+00, -6.5726e-01,  1.0863e+00,  ...,  9.8079e-02,\n",
       "            3.2950e-01,  8.0259e-01],\n",
       "          [ 1.9032e-01, -6.8657e-01,  1.9045e-01,  ..., -1.3535e-01,\n",
       "            5.2155e-01, -1.1243e-01],\n",
       "          ...,\n",
       "          [-1.1697e+00,  7.2458e-01, -1.0877e-02,  ..., -1.7296e-01,\n",
       "           -3.6154e-01, -4.2121e-01],\n",
       "          [-1.1350e+00,  4.7216e-01, -5.5229e-01,  ...,  4.6709e-01,\n",
       "           -2.7490e-02,  3.0391e-01],\n",
       "          [-4.8471e-01, -1.4974e-02, -5.0631e-01,  ...,  2.2416e-01,\n",
       "            2.1430e-01, -7.4323e-01]],\n",
       " \n",
       "         [[ 4.2968e-01, -6.8890e-01, -2.0038e-01,  ..., -8.3614e-01,\n",
       "            8.2966e-03, -5.4272e-02],\n",
       "          [ 2.4566e-01, -7.9746e-02,  1.1343e+00,  ...,  4.1714e-01,\n",
       "           -3.3114e-01,  4.1901e-01],\n",
       "          [-3.7914e-01, -2.6378e-01, -1.2692e-01,  ...,  2.3355e-01,\n",
       "            1.0407e+00,  6.7495e-01],\n",
       "          ...,\n",
       "          [ 2.5960e-02,  7.4361e-02,  4.7336e-01,  ...,  4.6585e-01,\n",
       "           -9.1199e-01,  4.3788e-01],\n",
       "          [ 4.2790e-01,  3.6744e-01,  5.3277e-01,  ..., -5.4189e-01,\n",
       "           -5.1328e-01,  4.2943e-01],\n",
       "          [-2.0682e-01, -5.3878e-01,  1.1790e+00,  ..., -4.0143e-01,\n",
       "           -5.8190e-01,  5.4662e-02]],\n",
       " \n",
       "         [[-1.5882e-01, -1.0139e+00, -1.5022e-01,  ..., -8.9655e-02,\n",
       "            3.0204e-02,  1.2523e-01],\n",
       "          [-4.1354e-01, -1.1896e+00,  7.1484e-01,  ...,  1.0028e+00,\n",
       "           -3.3926e-01, -6.9047e-01],\n",
       "          [-8.2694e-01, -1.0477e-01,  1.6588e-01,  ...,  6.4025e-01,\n",
       "           -6.2942e-01, -2.8764e-01],\n",
       "          ...,\n",
       "          [-8.2200e-01, -5.9476e-01, -1.2686e-01,  ..., -8.4111e-01,\n",
       "           -4.7473e-01, -1.0536e+00],\n",
       "          [-7.4854e-01, -1.4935e-01, -4.7160e-01,  ...,  1.3653e-02,\n",
       "           -5.4696e-01, -1.2508e+00],\n",
       "          [-1.0800e+00, -1.1667e-02, -2.2080e-01,  ..., -9.5929e-01,\n",
       "           -9.2081e-01, -1.2957e+00]],\n",
       " \n",
       "         ...,\n",
       " \n",
       "         [[-4.8082e-01, -2.0344e-02, -4.5588e-01,  ...,  2.9274e-01,\n",
       "            1.6075e-01,  2.1312e-01],\n",
       "          [ 3.3361e-01, -9.4031e-01,  4.0958e-01,  ...,  6.2557e-01,\n",
       "            2.3453e-01, -1.1031e+00],\n",
       "          [ 2.7498e-01, -9.8656e-02,  2.2200e-01,  ..., -1.0320e-01,\n",
       "            9.5829e-02,  2.1332e-02],\n",
       "          ...,\n",
       "          [-1.4067e-01, -3.8466e-01,  2.0989e-01,  ...,  6.6009e-02,\n",
       "            5.1049e-01, -7.5040e-01],\n",
       "          [-8.4665e-02, -6.7524e-01, -4.4213e-04,  ...,  5.8918e-01,\n",
       "           -3.5771e-01, -2.0280e-02],\n",
       "          [-5.1567e-01, -5.0848e-02,  2.9735e-01,  ..., -3.4338e-03,\n",
       "            1.0569e-01, -6.6204e-01]],\n",
       " \n",
       "         [[-7.6614e-02, -8.4054e-01,  4.6685e-02,  ...,  1.0446e-01,\n",
       "            1.9903e-01, -4.3533e-01],\n",
       "          [ 3.0970e-01, -2.7107e-01,  4.6576e-01,  ..., -1.0355e+00,\n",
       "            1.9100e-01, -2.6673e-01],\n",
       "          [ 9.8942e-01, -1.7325e-01,  2.0882e-01,  ...,  6.2270e-01,\n",
       "            2.9191e-01, -7.5851e-01],\n",
       "          ...,\n",
       "          [ 5.9588e-01, -4.7294e-01,  2.2541e-02,  ...,  3.2602e-01,\n",
       "           -5.5533e-02,  1.8394e-01],\n",
       "          [ 3.7026e-01, -4.3556e-01, -2.4596e-03,  ..., -4.2598e-02,\n",
       "            1.8604e-01, -3.7887e-01],\n",
       "          [ 1.1638e-03, -2.6383e-01, -3.1549e-01,  ...,  2.9918e-01,\n",
       "           -6.3984e-03, -7.3445e-02]],\n",
       " \n",
       "         [[ 1.4445e-01,  2.0295e-01, -6.1877e-01,  ..., -5.5464e-02,\n",
       "           -8.4014e-01, -5.7466e-01],\n",
       "          [ 3.0965e-01, -5.7279e-02,  1.6245e-01,  ..., -1.4534e+00,\n",
       "           -1.1232e-01,  4.1978e-01],\n",
       "          [-2.8540e-01, -2.9691e-01, -1.3177e-01,  ..., -1.2696e-01,\n",
       "            5.8357e-01, -4.9940e-01],\n",
       "          ...,\n",
       "          [ 5.4457e-01, -4.4746e-01, -3.1723e-01,  ..., -6.2989e-01,\n",
       "            6.7628e-02, -4.6215e-01],\n",
       "          [ 4.6727e-01,  1.0941e-01, -1.9552e-01,  ..., -5.3472e-01,\n",
       "           -3.3379e-01, -1.9289e-02],\n",
       "          [ 7.7853e-01, -3.4747e-01, -1.2432e+00,  ..., -4.7911e-01,\n",
       "           -2.3082e-01, -7.6707e-01]]], grad_fn=<AddBackward0>),\n",
       " tensor([[0.3682],\n",
       "         [0.4517],\n",
       "         [0.2647],\n",
       "         ...,\n",
       "         [0.0675],\n",
       "         [0.0869],\n",
       "         [0.4654]], grad_fn=<AddmmBackward0>),\n",
       " tensor([[False, False, False,  ..., False, False, False],\n",
       "         [False, False, False,  ..., False, False, False],\n",
       "         [False, False, False,  ..., False, False, False],\n",
       "         ...,\n",
       "         [False, False, False,  ..., False, False, False],\n",
       "         [False, False, False,  ..., False, False, False],\n",
       "         [False, False, False,  ..., False, False, False]]),\n",
       " tensor([[False, False, False,  ...,  True,  True,  True],\n",
       "         [False, False, False,  ...,  True,  True,  True],\n",
       "         [False, False, False,  ...,  True,  True,  True],\n",
       "         ...,\n",
       "         [False, False, False,  ...,  True,  True,  True],\n",
       "         [False, False, False,  ...,  True,  True,  True],\n",
       "         [False, False, False,  ...,  True,  True,  True]]))"
      ]
     },
     "execution_count": 21,
     "metadata": {},
     "output_type": "execute_result"
    }
   ],
   "source": [
    "model(batch_prometheus)"
   ]
  },
  {
   "cell_type": "code",
   "execution_count": null,
   "id": "a2352033",
   "metadata": {},
   "outputs": [],
   "source": []
  },
  {
   "cell_type": "code",
   "execution_count": null,
   "id": "a294d92f",
   "metadata": {},
   "outputs": [],
   "source": []
  },
  {
   "cell_type": "code",
   "execution_count": null,
   "id": "17821cea",
   "metadata": {},
   "outputs": [],
   "source": []
  },
  {
   "cell_type": "code",
   "execution_count": 3,
   "id": "983a7aaf",
   "metadata": {},
   "outputs": [],
   "source": [
    "\n",
    "def target_transform_prometheus(y, c):\n",
    "    y = np.vstack([y['initial_state_azimuth'].astype(np.float32), y['initial_state_zenith'].astype(np.float32)]).T\n",
    "    return y, c.astype(np.float32)\n",
    "\n",
    "\n",
    "def target_transform_kaggle(y, c):\n",
    "    return y.astype(np.float32), c.astype(np.float32)"
   ]
  },
  {
   "cell_type": "code",
   "execution_count": 4,
   "id": "920db68e",
   "metadata": {},
   "outputs": [],
   "source": [
    "from polarbert.te_pretraining import get_dataloaders\n",
    "from polarbert.config import PolarBertConfig"
   ]
  },
  {
   "cell_type": "code",
   "execution_count": 12,
   "id": "ebf4545d",
   "metadata": {},
   "outputs": [
    {
     "name": "stdout",
     "output_type": "stream",
     "text": [
      "Loading configuration from: /groups/pheno/inar/PolarBERT/configs/te_finetuning_combined.yaml\n",
      "Validating configuration...\n",
      "Configuration validation passed (with potential warnings).\n"
     ]
    },
    {
     "name": "stderr",
     "output_type": "stream",
     "text": [
      "/lustre/hpc/pheno/inar/PolarBERT/src/polarbert/config.py:40: UserWarning: In DataConfig: Unexpected keys found in config dictionary and will be ignored: {'prometheus_dir'}\n",
      "  warnings.warn(\n"
     ]
    }
   ],
   "source": [
    "config = PolarBertConfig.from_yaml('/groups/pheno/inar/PolarBERT/configs/te_finetuning_combined.yaml')"
   ]
  },
  {
   "cell_type": "code",
   "execution_count": 37,
   "id": "85928efa",
   "metadata": {},
   "outputs": [],
   "source": [
    "def default_target_transform(y, c):\n",
    "    return None, c.astype(np.float32)\n",
    "\n",
    "def default_transform(x, l):\n",
    "    return x.astype(np.float32), l.astype(np.float32)\n",
    "\n",
    "def get_dataloaders(\n",
    "        config: PolarBertConfig,\n",
    "        dataset_type: str,\n",
    "        transform=default_transform,\n",
    "        target_transform=default_target_transform,\n",
    "        override_batch_size: Optional[int]=None,\n",
    "    ) -> Tuple[DataLoader, DataLoader]:\n",
    "    \"\"\"Creates train and validation dataloaders using a PolarBertConfig object.\"\"\"\n",
    "\n",
    "    if dataset_type == 'prometheus':\n",
    "        from polarbert.prometheus_dataset import IceCubeDataset\n",
    "        data_dir=config.data.prometheus_dir\n",
    "    elif dataset_type == 'kaggle':\n",
    "        from polarbert.icecube_dataset import IceCubeDataset\n",
    "        data_dir=config.data.train_dir\n",
    "    else:\n",
    "        assert False, f\"Unknown dataset type: {dataset_type}\"\n",
    "    \n",
    "    full_dataset = IceCubeDataset(\n",
    "        data_dir=data_dir,\n",
    "        batch_size=override_batch_size if override_batch_size is not None else config.data.max_per_device_batch_size,\n",
    "        transform=transform,\n",
    "        target_transform=target_transform\n",
    "    )\n",
    "    train_events = config.data.train_events\n",
    "    val_events = config.data.val_events\n",
    "\n",
    "    if dataset_type == 'prometheus':\n",
    "        if val_events is None:\n",
    "            raise ValueError(\"Number of validation events must be specified for the Prometheus dataset\")\n",
    "        val_dataset = full_dataset.slice(0, val_events)\n",
    "        train_dataset = full_dataset.slice(val_events, val_events + train_events) if train_events else full_dataset.slice(val_events, None)\n",
    "    elif dataset_type == 'kaggle':\n",
    "        # Training dataset\n",
    "        train_dataset = full_dataset.slice(0, train_events)\n",
    "        # Validation dataset with optional subsampling\n",
    "        full_val_dataset = IceCubeDataset(\n",
    "            data_dir=config.data.val_dir, \n",
    "            batch_size=override_batch_size if override_batch_size is not None else config.data.max_per_device_batch_size,\n",
    "            transform=transform,\n",
    "            target_transform=target_transform\n",
    "        )\n",
    "        val_dataset = full_val_dataset.slice(0, val_events)\n",
    "    else:\n",
    "        assert False\n",
    "    \n",
    "    loader_kwargs = {\n",
    "        'batch_size': None,\n",
    "        'num_workers': config.data.num_workers,\n",
    "        'pin_memory': config.data.pin_memory,\n",
    "        'persistent_workers': config.data.persistent_workers\n",
    "    }\n",
    "    \n",
    "    return (\n",
    "        DataLoader(train_dataset, **loader_kwargs),\n",
    "        DataLoader(val_dataset, **loader_kwargs)\n",
    "    )"
   ]
  },
  {
   "cell_type": "code",
   "execution_count": 38,
   "id": "7b08659b",
   "metadata": {},
   "outputs": [
    {
     "data": {
      "text/plain": [
       "1024"
      ]
     },
     "execution_count": 38,
     "metadata": {},
     "output_type": "execute_result"
    }
   ],
   "source": [
    "config.data.max_per_device_batch_size"
   ]
  },
  {
   "cell_type": "code",
   "execution_count": 39,
   "id": "30d6eb06",
   "metadata": {},
   "outputs": [],
   "source": [
    "kaggle_train, kaggle_val = get_dataloaders(\n",
    "    config,\n",
    "    dataset_type='kaggle',\n",
    "    transform=default_transform,\n",
    "    target_transform=target_transform_kaggle\n",
    ")"
   ]
  },
  {
   "cell_type": "code",
   "execution_count": 40,
   "id": "3a22efdf",
   "metadata": {},
   "outputs": [],
   "source": [
    "prometheus_train, prometheus_val = get_dataloaders(\n",
    "    config,\n",
    "    dataset_type='prometheus',\n",
    "    transform=default_transform,\n",
    "    target_transform=target_transform_prometheus\n",
    ")\n"
   ]
  },
  {
   "cell_type": "code",
   "execution_count": 42,
   "id": "8494f852",
   "metadata": {},
   "outputs": [
    {
     "data": {
      "text/plain": [
       "(96, 96, 96, 96)"
      ]
     },
     "execution_count": 42,
     "metadata": {},
     "output_type": "execute_result"
    }
   ],
   "source": [
    "len(kaggle_train), len(kaggle_val), len(prometheus_train), len(prometheus_val)"
   ]
  },
  {
   "cell_type": "code",
   "execution_count": 23,
   "id": "07cb44a0",
   "metadata": {},
   "outputs": [
    {
     "data": {
      "text/plain": [
       "(<polarbert.icecube_dataset.IceCubeDataset at 0x7f5a88ca17d0>,\n",
       " <polarbert.icecube_dataset.IceCubeDataset at 0x7f5a8917b850>,\n",
       " <polarbert.prometheus_dataset.IceCubeDataset at 0x7f5a88b8fb90>,\n",
       " <polarbert.prometheus_dataset.IceCubeDataset at 0x7f5a88b11750>)"
      ]
     },
     "execution_count": 23,
     "metadata": {},
     "output_type": "execute_result"
    }
   ],
   "source": [
    "kaggle_train.dataset, kaggle_val.dataset, prometheus_train.dataset, prometheus_val.dataset"
   ]
  },
  {
   "cell_type": "code",
   "execution_count": null,
   "id": "c2aa6021",
   "metadata": {},
   "outputs": [],
   "source": []
  }
 ],
 "metadata": {
  "kernelspec": {
   "display_name": "polarbert",
   "language": "python",
   "name": "python3"
  },
  "language_info": {
   "codemirror_mode": {
    "name": "ipython",
    "version": 3
   },
   "file_extension": ".py",
   "mimetype": "text/x-python",
   "name": "python",
   "nbconvert_exporter": "python",
   "pygments_lexer": "ipython3",
   "version": "3.11.10"
  }
 },
 "nbformat": 4,
 "nbformat_minor": 5
}
