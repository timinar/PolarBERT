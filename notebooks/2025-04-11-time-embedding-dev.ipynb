{
 "cells": [
  {
   "cell_type": "code",
   "execution_count": 1,
   "id": "bde38507",
   "metadata": {},
   "outputs": [],
   "source": [
    "%load_ext autoreload\n",
    "%autoreload 2"
   ]
  },
  {
   "cell_type": "markdown",
   "id": "19c5f753",
   "metadata": {},
   "source": [
    "# checking the new config"
   ]
  },
  {
   "cell_type": "code",
   "execution_count": 88,
   "id": "1fcacd3d",
   "metadata": {},
   "outputs": [],
   "source": [
    "from polarbert.config import PolarBertConfig"
   ]
  },
  {
   "cell_type": "code",
   "execution_count": 89,
   "id": "8a337119",
   "metadata": {},
   "outputs": [
    {
     "name": "stdout",
     "output_type": "stream",
     "text": [
      "Loading configuration from: /groups/pheno/inar/PolarBERT/configs/polarbert_new.yaml\n",
      "Validating configuration...\n",
      "Configuration validation passed (with potential warnings).\n",
      "Calculating runtime training parameters...\n",
      "  Logical Batch Size: 4096\n",
      "  Max Per Device Batch Size: 4096\n",
      "  Calculated Per Device Batch Size: 4096\n",
      "  Gradient Accumulation Steps: 1\n",
      "  Effective Batch Size: 4096\n",
      "  Steps per Epoch (logical): 10000\n",
      "  Total Steps: 200000\n",
      "  Overriding pct_start based on warm_up_steps: 0.2000 -> 0.0050\n",
      "\n",
      "--- Calculated Runtime Params ---\n",
      "Total Steps: 200000\n",
      "Grad Accum Steps: 1\n",
      "Effective Batch Size: 4096\n",
      "Final pct_start for Scheduler: 0.0050\n",
      "\n",
      "--- Accessing Config ---\n",
      "Model Name: polarbert_time_embed\n",
      "Time Embedding Dim: 128\n",
      "Optimizer Beta1: 0.9\n",
      "Checkpoint Dir: checkpoints\n"
     ]
    }
   ],
   "source": [
    "import yaml\n",
    "config_file = \"/groups/pheno/inar/PolarBERT/configs/polarbert_new.yaml\"\n",
    "\n",
    "try:\n",
    "    config = PolarBertConfig.from_yaml(config_file)\n",
    "\n",
    "    # --- Calculate Runtime Params (example, needs actual train_loader length) ---\n",
    "    # Replace '10000' with len(train_loader) from your script\n",
    "    # Note: len(dataloader) with IterableDataset might be tricky, often needs manual setting.\n",
    "    # Let's assume you know the number of batches per epoch for the dataloader.\n",
    "    num_batches_per_epoch = 10000 # Placeholder! Calculate this properly.\n",
    "    config.calculate_runtime_params(num_batches_per_epoch)\n",
    "    print(\"\\n--- Calculated Runtime Params ---\")\n",
    "    print(f\"Total Steps: {config.training.total_steps}\")\n",
    "    print(f\"Grad Accum Steps: {config.training.gradient_accumulation_steps}\")\n",
    "    print(f\"Effective Batch Size: {config.training.effective_batch_size}\")\n",
    "    print(f\"Final pct_start for Scheduler: {config.training.pct_start:.4f}\")\n",
    "\n",
    "\n",
    "    print(\"\\n--- Accessing Config ---\")\n",
    "    print(f\"Model Name: {config.model.model_name}\")\n",
    "    print(f\"Time Embedding Dim: {config.model.embedding.time_embedding_dim}\")\n",
    "    print(f\"Optimizer Beta1: {config.training.adam_beta1}\")\n",
    "    print(f\"Checkpoint Dir: {config.training.checkpoint.dirpath}\")\n",
    "\n",
    "    # Example saving\n",
    "    # config.save_yaml('saved_config_copy.yaml')\n",
    "\n",
    "    # Example loading from checkpoint dir\n",
    "    # cp_path = 'checkpoints/your_model_run/epoch=01-step=1000.ckpt'\n",
    "    # config_from_cp = PolarBertConfig.from_checkpoint(cp_path)\n",
    "    # print(f\"\\nLoaded config from checkpoint dir. Project: {config_from_cp.training.logging.project}\")\n",
    "\n",
    "except (FileNotFoundError, ValueError, yaml.YAMLError, TypeError) as e:\n",
    "     print(f\"\\nError loading/validating/calculating config: {e}\")"
   ]
  },
  {
   "cell_type": "code",
   "execution_count": 92,
   "id": "5a0410c1",
   "metadata": {},
   "outputs": [],
   "source": [
    "config.data.train_events = 100_000\n",
    "config.data.per_device_batch_size = 32"
   ]
  },
  {
   "cell_type": "code",
   "execution_count": 93,
   "id": "22a2f270",
   "metadata": {},
   "outputs": [
    {
     "name": "stdout",
     "output_type": "stream",
     "text": [
      "Loading configuration from: /groups/pheno/inar/PolarBERT/configs/polarbert_new.yaml\n",
      "Validating configuration...\n",
      "Configuration validation passed (with potential warnings).\n",
      "{'data': {'max_per_device_batch_size': 4096,\n",
      "          'num_workers': 1,\n",
      "          'persistent_workers': True,\n",
      "          'pin_memory': False,\n",
      "          'train_dir': '/groups/pheno/inar/icecube_kaggle/memmaped_100M_127',\n",
      "          'train_events': 100000000,\n",
      "          'val_dir': '/groups/pheno/inar/icecube_kaggle/memmaped_eval_1M_127',\n",
      "          'val_events': 200000},\n",
      " 'model': {'embedding': {'aux_embedding_dim': 4,\n",
      "                         'charge_bin_max': 0.9,\n",
      "                         'charge_bin_min': -0.6,\n",
      "                         'charge_embedding_dim': 16,\n",
      "                         'charge_vocab_size': 128,\n",
      "                         'dom_embedding_dim': 108,\n",
      "                         'dom_vocab_size': 5162,\n",
      "                         'embedding_dim': 256,\n",
      "                         'embedding_projection': False,\n",
      "                         'masking_charges': False,\n",
      "                         'masking_doms': True,\n",
      "                         'masking_prob': 0.25,\n",
      "                         'masking_times': False,\n",
      "                         'time_embedding_dim': 128,\n",
      "                         'time_vocab_size': 52000},\n",
      "           'embedding_dim': 256,\n",
      "           'ffd_type': 'SwiGLU',\n",
      "           'hidden_size': 1024,\n",
      "           'lambda_charge': 1.0,\n",
      "           'model_name': 'polarbert_time_embed',\n",
      "           'num_heads': 8,\n",
      "           'num_layers': 8,\n",
      "           'use_positional_embedding': False,\n",
      "           'use_rope': False},\n",
      " 'training': {'adam_beta1': 0.9,\n",
      "              'adam_beta2': 0.95,\n",
      "              'adam_eps': 1e-08,\n",
      "              'amsgrad': False,\n",
      "              'checkpoint': {'dirpath': 'checkpoints',\n",
      "                             'mode': 'min',\n",
      "                             'monitor': 'val/full_loss',\n",
      "                             'save_final': True,\n",
      "                             'save_last': True,\n",
      "                             'save_top_k': 1},\n",
      "              'div_factor': 25.0,\n",
      "              'final_div_factor': 10000.0,\n",
      "              'gpus': 1,\n",
      "              'gradient_clip_val': 1.0,\n",
      "              'logging': {'project': 'PolarBERT-time-embed'},\n",
      "              'logical_batch_size': 4096,\n",
      "              'lr_scheduler': 'onecycle',\n",
      "              'max_epochs': 20,\n",
      "              'max_lr': 0.0003,\n",
      "              'optimizer': 'AdamW',\n",
      "              'pct_start': 0.2,\n",
      "              'precision': '16-mixed',\n",
      "              'val_check_interval': 0.5,\n",
      "              'warm_up_steps': 1000,\n",
      "              'weight_decay': 0.1}}\n"
     ]
    }
   ],
   "source": [
    "from pprint import pprint\n",
    "config = PolarBertConfig.from_yaml(config_file)\n",
    "config_dict = config.to_dict()\n",
    "pprint(config_dict)"
   ]
  },
  {
   "cell_type": "code",
   "execution_count": 6,
   "id": "15fb991b",
   "metadata": {},
   "outputs": [],
   "source": [
    "from polarbert.pretraining import get_dataloaders"
   ]
  },
  {
   "cell_type": "code",
   "execution_count": 7,
   "id": "389d66e0",
   "metadata": {},
   "outputs": [
    {
     "name": "stdout",
     "output_type": "stream",
     "text": [
      "Loading configuration from: /groups/pheno/inar/PolarBERT/configs/polarbert_new.yaml\n",
      "Validating configuration...\n",
      "Configuration validation passed (with potential warnings).\n"
     ]
    }
   ],
   "source": [
    "config = PolarBertConfig.from_yaml(config_file)\n",
    "config_dict = config.to_dict()\n",
    "config_dict[\"training\"][\"per_device_batch_size\"] = 32\n",
    "train_loader, val_loader = get_dataloaders(config_dict, dataset_type='kaggle')"
   ]
  },
  {
   "cell_type": "markdown",
   "id": "0c27a82c",
   "metadata": {},
   "source": [
    "# Exporing charge distribution for optimal quantization"
   ]
  },
  {
   "cell_type": "code",
   "execution_count": null,
   "id": "40a3ba5b",
   "metadata": {},
   "outputs": [],
   "source": [
    "import matplotlib.pyplot as plt\n",
    "import numpy as np\n",
    "import torch"
   ]
  },
  {
   "cell_type": "code",
   "execution_count": null,
   "id": "e44a8399",
   "metadata": {},
   "outputs": [],
   "source": [
    "# T_evt[:len(selected_idx), 0] = (time[selected_idx] - 1e4) / 3e4\n",
    "# T_evt[:len(selected_idx), 1] = np.log10(charge[selected_idx]) / 3.0\n",
    "# T_evt[:len(selected_idx), 2] = auxiliary[selected_idx] - 0.5 # aux = True is BAD, so 0.5 is bad\n",
    "# T_evt[:len(selected_idx), 3] = sensor_id[selected_idx] + 1  # +1 is needed since we use 0 for padding\n",
    "\n",
    "for batch in train_loader:\n",
    "    break\n",
    "(x, l), (y, c) = batch"
   ]
  },
  {
   "cell_type": "code",
   "execution_count": 19,
   "id": "ef894356",
   "metadata": {},
   "outputs": [],
   "source": [
    "(x, l), (y, c) = batch\n",
    "\n",
    "# Create padding mask (same as in embedding.py)\n",
    "batch_size, max_seq_len, _ = x.shape\n",
    "padding_mask = torch.arange(max_seq_len, device=x.device)[None, :] >= l[:, None]\n",
    "\n",
    "# Get charge values (feature index 1)\n",
    "charges = x[:, :, 1]"
   ]
  },
  {
   "cell_type": "code",
   "execution_count": 24,
   "id": "ffe2f263",
   "metadata": {},
   "outputs": [
    {
     "data": {
      "text/plain": [
       "torch.Size([2136])"
      ]
     },
     "execution_count": 24,
     "metadata": {},
     "output_type": "execute_result"
    }
   ],
   "source": [
    "padding_mask\n",
    "non_pad_mask = ~padding_mask\n",
    "charges[non_pad_mask].shape"
   ]
  },
  {
   "cell_type": "code",
   "execution_count": 50,
   "id": "d6159c92",
   "metadata": {},
   "outputs": [
    {
     "name": "stdout",
     "output_type": "stream",
     "text": [
      "Total non-masked charges collected: 204943\n"
     ]
    },
    {
     "data": {
      "image/png": "[encoded data removed]",
      "text/plain": [
       "<Figure size 1000x600 with 1 Axes>"
      ]
     },
     "metadata": {},
     "output_type": "display_data"
    }
   ],
   "source": [
    "charges_non_masked = []\n",
    "\n",
    "for i, batch in enumerate(train_loader):\n",
    "    (x, l), (y, c) = batch\n",
    "    \n",
    "    # Create padding mask (same as in embedding.py)\n",
    "    batch_size, max_seq_len, _ = x.shape\n",
    "    padding_mask = torch.arange(max_seq_len, device=x.device)[None, :] >= l[:, None]\n",
    "    \n",
    "    # Get charge values (feature index 1)\n",
    "    charges = x[:, :, 1]\n",
    "    \n",
    "    # Create mask for non-padded positions\n",
    "    non_pad_mask = ~padding_mask\n",
    "\n",
    "    auxiliary_mask = x[:, :, 2] == -0.5  # Non-auxiliary pulses\n",
    "    combined_mask = non_pad_mask & auxiliary_mask\n",
    "    \n",
    "    # Extract only non-padded charges\n",
    "    valid_charges = charges[combined_mask]\n",
    "    \n",
    "    # Append to our collection\n",
    "    charges_non_masked.append(valid_charges)\n",
    "    \n",
    "    if i > 200:\n",
    "        break\n",
    "\n",
    "# Concatenate all charges into a single tensor\n",
    "charges_non_masked = torch.cat(charges_non_masked)\n",
    "print(f\"Total non-masked charges collected: {len(charges_non_masked)}\")\n",
    "\n",
    "# Create histogram\n",
    "plt.figure(figsize=(10, 6))\n",
    "plt.hist(charges_non_masked.cpu().numpy(), bins=126)\n",
    "plt.xlabel(\"Charge (normalized log10(charge)/3.0)\")\n",
    "plt.ylabel(\"Counts\")\n",
    "plt.yscale(\"log\")\n",
    "plt.title(\"Distribution of Non-Masked Charges\")\n",
    "plt.grid(alpha=0.3)"
   ]
  },
  {
   "cell_type": "code",
   "execution_count": 44,
   "id": "2b453379",
   "metadata": {},
   "outputs": [
    {
     "data": {
      "text/plain": [
       "Text(0.5, 0, 'Charge')"
      ]
     },
     "execution_count": 44,
     "metadata": {},
     "output_type": "execute_result"
    },
    {
     "data": {
      "image/png": "[encoded data removed]",
      "text/plain": [
       "<Figure size 640x480 with 1 Axes>"
      ]
     },
     "metadata": {},
     "output_type": "display_data"
    }
   ],
   "source": [
    "# np.log10(charge[selected_idx]) / 3.0\n",
    "plt.hist(np.power(10, charges_non_masked.numpy()*3.0), bins=np.logspace(-2,3, 100))\n",
    "plt.xscale('log')\n",
    "plt.yscale('log')\n",
    "plt.xlabel(\"Charge\")\n"
   ]
  },
  {
   "cell_type": "code",
   "execution_count": 51,
   "id": "89e2fa38",
   "metadata": {},
   "outputs": [
    {
     "data": {
      "text/plain": [
       "128"
      ]
     },
     "execution_count": 51,
     "metadata": {},
     "output_type": "execute_result"
    }
   ],
   "source": []
  },
  {
   "cell_type": "code",
   "execution_count": 53,
   "id": "711688e2",
   "metadata": {},
   "outputs": [],
   "source": [
    "NUM_CHARGE_BINS = config.model.embedding.charge_vocab_size - 2 # e.g., 128 - 2 = 126\n",
    "CHARGE_BIN_MIN = -0.5 # Define the range for binning\n",
    "CHARGE_BIN_MAX = 0.9"
   ]
  },
  {
   "cell_type": "code",
   "execution_count": 71,
   "id": "4575c64f",
   "metadata": {},
   "outputs": [
    {
     "data": {
      "text/plain": [
       "(torch.Size([32, 127]), torch.Size([32, 127]))"
      ]
     },
     "execution_count": 71,
     "metadata": {},
     "output_type": "execute_result"
    }
   ],
   "source": [
    "\n",
    "\n",
    "\n",
    "for batch in train_loader:\n",
    "    break\n",
    "(x, l), (y, c) = batch\n",
    "\n",
    "batch_size, max_seq_len, _ = x.shape\n",
    "padding_mask = torch.arange(max_seq_len, device=x.device)[None, :] >= l[:, None]\n",
    "\n",
    "charge_normalized = x[:, :, 1]\n",
    "charge_normalized.shape, padding_mask.shape"
   ]
  },
  {
   "cell_type": "code",
   "execution_count": null,
   "id": "5eea0ada",
   "metadata": {},
   "outputs": [],
   "source": [
    "bin_edges = torch.linspace(\n",
    "    CHARGE_BIN_MIN,\n",
    "    CHARGE_BIN_MAX,\n",
    "    steps=NUM_CHARGE_BINS + 1, # Need N+1 edges for N bins\n",
    "    device=x.device\n",
    ")\n",
    "# Should it be an attribute  of the embedding class, so that we don't construct it per each batch? Or we can have problems with multi deivce training (if we do it at some point)?"
   ]
  },
  {
   "cell_type": "code",
   "execution_count": 61,
   "id": "6a88faab",
   "metadata": {},
   "outputs": [
    {
     "data": {
      "text/plain": [
       "torch.Size([32, 127])"
      ]
     },
     "execution_count": 61,
     "metadata": {},
     "output_type": "execute_result"
    }
   ],
   "source": [
    "# Bucketize the normalized charge values\n",
    "# Values <= edge[0] get index 0. Values > edge[-1] get index NUM_CHARGE_BINS.\n",
    "# Values in (edge[i], edge[i+1]] get index i+1.\n",
    "# Using right=True : (lower, upper] intervals\n",
    "bucket_indices = torch.bucketize(charge_normalized, bin_edges, right=True)\n",
    "bucket_indices.shape"
   ]
  },
  {
   "cell_type": "code",
   "execution_count": 77,
   "id": "a59f6cd7",
   "metadata": {},
   "outputs": [
    {
     "data": {
      "image/png": "[encoded data removed]",
      "text/plain": [
       "<Figure size 640x480 with 1 Axes>"
      ]
     },
     "metadata": {},
     "output_type": "display_data"
    }
   ],
   "source": [
    "plt.hist(bucket_indices.flatten().numpy(), bins=NUM_CHARGE_BINS-1);\n",
    "plt.xlabel(\"Charge Bin Index\")\n",
    "plt.ylabel(\"Counts\")\n",
    "plt.yscale(\"log\")"
   ]
  },
  {
   "cell_type": "code",
   "execution_count": 78,
   "id": "aa3f3881",
   "metadata": {},
   "outputs": [
    {
     "data": {
      "image/png": "[encoded data removed]",
      "text/plain": [
       "<Figure size 640x480 with 1 Axes>"
      ]
     },
     "metadata": {},
     "output_type": "display_data"
    }
   ],
   "source": [
    "# Map bucket indices (0 to NUM_CHARGE_BINS) to data indices (1 to NUM_CHARGE_BINS)\n",
    "# Clamp indices: map 0 -> 1, keep 1..NUM_CHARGE_BINS as is.\n",
    "# Effectively treats underflow/overflow as belonging to the first/last bin.\n",
    "charge_indices_base = torch.clamp(bucket_indices, min=1, max=NUM_CHARGE_BINS) # Indices are now 1 to 126\n",
    "\n",
    "plt.hist(charge_indices_base.flatten().numpy(), bins=NUM_CHARGE_BINS-1);\n",
    "plt.xlabel(\"Charge Bin Index Clamped\")\n",
    "plt.ylabel(\"Counts\")\n",
    "plt.yscale(\"log\")"
   ]
  },
  {
   "cell_type": "code",
   "execution_count": 74,
   "id": "9fa29816",
   "metadata": {},
   "outputs": [],
   "source": [
    "# Apply padding index (PAD_IDX = 0)\n",
    "PAD_IDX = 0\n",
    "charge_indices_padded = torch.where(padding_mask, PAD_IDX, charge_indices_base)\n",
    "\n",
    "# --- (Masking application happens later, after output_mask is calculated) ---\n",
    "# Placeholder: Assume charge_indices will be masked later if needed\n",
    "charge_indices = charge_indices_padded # Keep this name consistent for now"
   ]
  },
  {
   "cell_type": "code",
   "execution_count": 79,
   "id": "2c16051a",
   "metadata": {},
   "outputs": [
    {
     "data": {
      "image/png": "[encoded data removed]",
      "text/plain": [
       "<Figure size 640x480 with 1 Axes>"
      ]
     },
     "metadata": {},
     "output_type": "display_data"
    }
   ],
   "source": [
    "charge_indices\n",
    "plt.hist(charge_indices.flatten().numpy(), bins=NUM_CHARGE_BINS-1);\n",
    "plt.xlabel(\"Charge Bin Index Padded\")\n",
    "plt.ylabel(\"Counts\")\n",
    "plt.yscale(\"log\")"
   ]
  },
  {
   "cell_type": "code",
   "execution_count": 80,
   "id": "009d3ca2",
   "metadata": {},
   "outputs": [
    {
     "data": {
      "text/plain": [
       "tensor([[41, 46, 49,  ..., 45, 46, 44],\n",
       "        [34, 41, 47,  ..., 45, 45, 45],\n",
       "        [46, 37, 39,  ..., 46, 34, 48],\n",
       "        ...,\n",
       "        [50, 49, 46,  ..., 47, 45, 38],\n",
       "        [44, 39, 62,  ..., 40, 46, 46],\n",
       "        [51, 58, 45,  ..., 45, 45, 45]])"
      ]
     },
     "execution_count": 80,
     "metadata": {},
     "output_type": "execute_result"
    }
   ],
   "source": [
    "charge_indices_base"
   ]
  },
  {
   "cell_type": "code",
   "execution_count": 81,
   "id": "d3fecd9c",
   "metadata": {},
   "outputs": [
    {
     "data": {
      "text/plain": [
       "tensor([[41, 46, 49,  ..., 45, 46, 44],\n",
       "        [34, 41, 47,  ...,  0,  0,  0],\n",
       "        [46, 37, 39,  ...,  0,  0,  0],\n",
       "        ...,\n",
       "        [50, 49, 46,  ...,  0,  0,  0],\n",
       "        [44, 39, 62,  ...,  0,  0,  0],\n",
       "        [51, 58, 45,  ...,  0,  0,  0]])"
      ]
     },
     "execution_count": 81,
     "metadata": {},
     "output_type": "execute_result"
    }
   ],
   "source": [
    "charge_indices"
   ]
  },
  {
   "cell_type": "markdown",
   "id": "8727fa82",
   "metadata": {},
   "source": [
    "# Putting together the embedding layer"
   ]
  },
  {
   "cell_type": "code",
   "execution_count": 94,
   "id": "bc9c82d7",
   "metadata": {},
   "outputs": [],
   "source": [
    "import torch\n",
    "import torch.nn as nn\n",
    "import numpy as np # Only needed for float('inf') if torch.inf unavailable in older torch\n",
    "import warnings\n",
    "from typing import Tuple, Optional # Added Optional for return type hint\n",
    "\n",
    "# --- Define Constants calculated FROM Config ---\n",
    "PAD_IDX = 0\n",
    "\n",
    "class EnhancedIceCubeEmbedding(nn.Module):\n",
    "    \"\"\"\n",
    "    Embedding layer using index replacement for masking specific features.\n",
    "    Indices: 0=[PAD], LAST_IDX=[MASK]. Assumes sub-embedding dims sum\n",
    "    to the final model embedding dimension (no projection layer).\n",
    "    Quantizes charge based on normalized log values using pre-calculated buffers.\n",
    "    \"\"\"\n",
    "    def __init__(self, config, masking=False):\n",
    "        \"\"\"\n",
    "        Initializes the embedding layer.\n",
    "\n",
    "        Args:\n",
    "            config (PolarBertConfig): The main configuration object.\n",
    "            masking (bool): Whether to enable masking during training.\n",
    "        \"\"\"\n",
    "        super().__init__()\n",
    "        self.config = config\n",
    "        self.masking = masking\n",
    "        embedding_cfg = config.model.embedding\n",
    "\n",
    "        self.mask_prob = embedding_cfg.masking_prob if masking else 0.0\n",
    "\n",
    "        # --- Calculate Vocab Sizes and MASK Indices ---\n",
    "        self.dom_vocab_size = embedding_cfg.dom_vocab_size\n",
    "        self.dom_mask_idx = self.dom_vocab_size - 1\n",
    "\n",
    "        self.time_vocab_size = embedding_cfg.time_vocab_size\n",
    "        self.time_mask_idx = self.time_vocab_size - 1\n",
    "        self.max_time_duration = self.time_mask_idx - 1\n",
    "\n",
    "        self.charge_vocab_size = embedding_cfg.charge_vocab_size\n",
    "        self.charge_mask_idx = self.charge_vocab_size - 1\n",
    "        self.num_charge_bins = self.charge_vocab_size - 2\n",
    "        if self.num_charge_bins <= 0:\n",
    "            raise ValueError(\"charge_vocab_size must be >= 2 for PAD and MASK indices.\")\n",
    "\n",
    "        # --- TODO: Define Aux Vocab Size and MASK index ---\n",
    "        self.aux_num_cats = 2 # Example\n",
    "        self.aux_vocab_size = self.aux_num_cats + 2\n",
    "        self.aux_mask_idx = self.aux_vocab_size - 1\n",
    "\n",
    "        # --- Embedding Layers (All use padding_idx=0) ---\n",
    "        self.dom_embedding = nn.Embedding(\n",
    "            self.dom_vocab_size, embedding_cfg.dom_embedding_dim, padding_idx=PAD_IDX\n",
    "        )\n",
    "        self.time_embedding = nn.Embedding(\n",
    "            self.time_vocab_size, embedding_cfg.time_embedding_dim, padding_idx=PAD_IDX\n",
    "        )\n",
    "        self.charge_embedding = nn.Embedding(\n",
    "             self.charge_vocab_size, embedding_cfg.charge_embedding_dim, padding_idx=PAD_IDX\n",
    "        )\n",
    "        self.aux_embedding = nn.Embedding( # Assuming aux embedding needed\n",
    "             self.aux_vocab_size, embedding_cfg.aux_embedding_dim, padding_idx=PAD_IDX\n",
    "        )\n",
    "\n",
    "        # --- Define and Register Charge Bin Edges Buffer ---\n",
    "        # Get binning range from config (assuming they are added)\n",
    "        charge_bin_min = embedding_cfg.charge_bin_min # e.g., -0.6\n",
    "        charge_bin_max = embedding_cfg.charge_bin_max # e.g., 0.9\n",
    "        # Create tensor on CPU initially\n",
    "        charge_bin_edges_tensor = torch.linspace(\n",
    "            charge_bin_min,\n",
    "            charge_bin_max,\n",
    "            steps=self.num_charge_bins + 1 # N+1 edges for N bins\n",
    "        )\n",
    "        # Register as buffer - will be moved to device with the module\n",
    "        self.register_buffer('charge_bin_edges', charge_bin_edges_tensor)\n",
    "\n",
    "\n",
    "        # --- Optional Projection Layer ---\n",
    "        self.embedding_dim = config.model.embedding_dim\n",
    "        total_sub_embed_dim = (\n",
    "            embedding_cfg.dom_embedding_dim + embedding_cfg.time_embedding_dim +\n",
    "            embedding_cfg.charge_embedding_dim + embedding_cfg.aux_embedding_dim\n",
    "        )\n",
    "        if embedding_cfg.embedding_projection:\n",
    "             print(\"INFO: Using projection layer after concatenating embeddings.\")\n",
    "             self.projection = nn.Linear(total_sub_embed_dim, self.embedding_dim)\n",
    "             if total_sub_embed_dim != self.embedding_dim:\n",
    "                 print(f\"  Projecting from {total_sub_embed_dim} to {self.embedding_dim}\")\n",
    "        elif total_sub_embed_dim == self.embedding_dim:\n",
    "             print(\"INFO: Concatenated embeddings directly match model embedding dim. No projection layer used.\")\n",
    "             self.projection = None\n",
    "        else:\n",
    "             # Sum doesn't match and projection is False\n",
    "             raise ValueError(\n",
    "                 f\"[Config Error] embedding_projection is False, but sum of sub-embedding dims ({total_sub_embed_dim}) \"\n",
    "                 f\"does not match model.embedding_dim ({self.embedding_dim}). \"\n",
    "                 f\"Adjust dimensions or set embedding_projection to True.\"\n",
    "             )\n",
    "\n",
    "        # --- CLS Token ---\n",
    "        self.cls_embedding = nn.Parameter(torch.randn(1, 1, self.embedding_dim))\n",
    "\n",
    "\n",
    "    def forward(self, input_batch: Tuple[torch.Tensor, torch.Tensor]) -> Tuple[torch.Tensor, torch.Tensor, Optional[torch.Tensor]]:\n",
    "        \"\"\" Forward pass for the embedding layer. \"\"\"\n",
    "        x, l = input_batch\n",
    "        batch_size, seq_len, _ = x.shape\n",
    "        device = x.device\n",
    "        embedding_cfg = self.config.model.embedding\n",
    "\n",
    "        # --- 1. Get Original Padding Mask ---\n",
    "        padding_mask = (x[:, :, 3] == PAD_IDX)\n",
    "\n",
    "        # --- 2. Process Time Feature to Indices ---\n",
    "        time_normalized = x[:, :, 0]\n",
    "        time_float_approx = time_normalized * 3e4 + 1e4\n",
    "        time_float_masked_for_min = torch.where(padding_mask, torch.full_like(time_float_approx, float('inf')), time_float_approx)\n",
    "        t_min_per_event = torch.min(time_float_masked_for_min, dim=1, keepdim=True)[0]\n",
    "        t_min_per_event = torch.where(torch.isinf(t_min_per_event), torch.zeros_like(t_min_per_event), t_min_per_event)\n",
    "        time_relative_float = time_float_approx - t_min_per_event\n",
    "        time_relative_int = torch.round(time_relative_float).long()\n",
    "        time_relative_int_clipped = torch.clamp(time_relative_int, min=0, max=self.max_time_duration)\n",
    "        time_indices = torch.where(padding_mask, PAD_IDX, time_relative_int_clipped + 1)\n",
    "\n",
    "        # --- 3. Process DOM ID Feature to Indices ---\n",
    "        dom_indices = x[:, :, 3].long()\n",
    "\n",
    "        # --- 4. Process Charge Feature to Indices ---\n",
    "        charge_normalized = x[:, :, 1]\n",
    "        # Use the buffer for bin edges - it's already on the correct device\n",
    "        # Note: self.charge_bin_edges is automatically moved by PyTorch's .to(device)\n",
    "        bucket_indices = torch.bucketize(charge_normalized, self.charge_bin_edges, right=True)\n",
    "        charge_indices_base = torch.clamp(bucket_indices, min=1, max=self.num_charge_bins)\n",
    "        charge_indices = torch.where(padding_mask, PAD_IDX, charge_indices_base)\n",
    "\n",
    "        # --- 5. Process Auxiliary Feature to Indices ---\n",
    "        aux_normalized = x[:, :, 2]\n",
    "        aux_base_idx = torch.round(aux_normalized + 0.5).long()\n",
    "        aux_base_idx_clipped = torch.clamp(aux_base_idx, 0, self.aux_num_cats - 1)\n",
    "        aux_indices = torch.where(padding_mask, PAD_IDX, aux_base_idx_clipped + 1)\n",
    "\n",
    "        # --- 6. Apply Masking (Index Replacement) ---\n",
    "        output_mask = None\n",
    "        if self.masking:\n",
    "            is_non_auxiliary = (x[:, :, 2] == -0.5)\n",
    "            random_mask = torch.rand(is_non_auxiliary.shape, device=device) < self.mask_prob\n",
    "            output_mask = is_non_auxiliary & random_mask & ~padding_mask\n",
    "\n",
    "            if embedding_cfg.masking_doms:\n",
    "                dom_indices = torch.where(output_mask, self.dom_mask_idx, dom_indices)\n",
    "            if embedding_cfg.masking_times:\n",
    "                time_indices = torch.where(output_mask, self.time_mask_idx, time_indices)\n",
    "            if embedding_cfg.masking_charges:\n",
    "                charge_indices = torch.where(output_mask, self.charge_mask_idx, charge_indices)\n",
    "            # if embedding_cfg.masking_aux: aux_indices = torch.where(output_mask, self.aux_mask_idx, aux_indices)\n",
    "\n",
    "        # --- 7. Embedding Lookups ---\n",
    "        dom_embeds = self.dom_embedding(dom_indices)\n",
    "        time_embeds = self.time_embedding(time_indices)\n",
    "        charge_embeds = self.charge_embedding(charge_indices)\n",
    "        aux_embeds = self.aux_embedding(aux_indices)\n",
    "\n",
    "        # --- 8. Combine Embeddings ---\n",
    "        combined_embeds = torch.cat([dom_embeds, time_embeds, charge_embeds, aux_embeds], dim=2)\n",
    "\n",
    "        # --- 8b. Apply Optional Projection Layer ---\n",
    "        if self.projection is not None:\n",
    "            projected_embeds = self.projection(combined_embeds)\n",
    "        else:\n",
    "            projected_embeds = combined_embeds\n",
    "\n",
    "        # --- 9. Prepend CLS Token ---\n",
    "        cls_token_expanded = self.cls_embedding.expand(batch_size, -1, -1).to(projected_embeds.dtype)\n",
    "        full_embedding = torch.cat([cls_token_expanded, projected_embeds], dim=1)\n",
    "\n",
    "        # --- 10. Create Final Padding Mask ---\n",
    "        final_padding_mask = torch.cat([\n",
    "             torch.zeros(batch_size, 1, dtype=torch.bool, device=device),\n",
    "             padding_mask\n",
    "        ], dim=1)\n",
    "\n",
    "        # --- 11. Return ---\n",
    "        return full_embedding, final_padding_mask, output_mask"
   ]
  },
  {
   "cell_type": "code",
   "execution_count": 113,
   "id": "bdaaa16c",
   "metadata": {},
   "outputs": [
    {
     "name": "stdout",
     "output_type": "stream",
     "text": [
      "Loading configuration from: /groups/pheno/inar/PolarBERT/configs/polarbert_new.yaml\n",
      "Validating configuration...\n",
      "Configuration validation passed (with potential warnings).\n",
      "Loading configuration from: /groups/pheno/inar/PolarBERT/configs/polarbert_new.yaml\n",
      "Validating configuration...\n",
      "Configuration validation passed (with potential warnings).\n",
      "INFO: Concatenated embeddings directly match model embedding dim. No projection layer used.\n"
     ]
    }
   ],
   "source": [
    "from polarbert.pretraining import get_dataloaders\n",
    "from polarbert.time_embedding import IceCubeTimeEmbedding\n",
    "\n",
    "config_file = \"/groups/pheno/inar/PolarBERT/configs/polarbert_new.yaml\"\n",
    "config = PolarBertConfig.from_yaml(config_file)\n",
    "\n",
    "config = PolarBertConfig.from_yaml(config_file)\n",
    "config_dict = config.to_dict()\n",
    "config_dict[\"training\"][\"per_device_batch_size\"] = 32\n",
    "train_loader, val_loader = get_dataloaders(config_dict, dataset_type='kaggle')\n",
    "\n",
    "for batch in train_loader:\n",
    "    break\n",
    "(x, l), (y, c) = batch\n",
    "\n",
    "embedding = IceCubeTimeEmbedding(config, masking=True)\n",
    "\n",
    "full_embedding, padding_mask, mask = embedding.forward((x,l))"
   ]
  },
  {
   "cell_type": "code",
   "execution_count": 114,
   "id": "2c461171",
   "metadata": {},
   "outputs": [
    {
     "name": "stdout",
     "output_type": "stream",
     "text": [
      "Input Batch Size (B): 32, Original Seq Len (L_orig): 127\n",
      "Output Embedding Shape (B, L_orig+1, E): torch.Size([32, 128, 256])\n",
      "Output Padding Mask Shape (B, L_orig+1): torch.Size([32, 128])\n",
      "Output Mask Shape (B, L_orig): torch.Size([32, 127])\n",
      "\n",
      "Shape checks passed!\n"
     ]
    }
   ],
   "source": [
    "# --- Check Shapes ---\n",
    "B, L_plus_1, E = full_embedding.shape\n",
    "B_pad, L_plus_1_pad = padding_mask.shape\n",
    "B_mask, L_mask = mask.shape if mask is not None else (None, None)\n",
    "\n",
    "print(f\"Input Batch Size (B): {batch_size}, Original Seq Len (L_orig): {max_seq_len}\")\n",
    "print(f\"Output Embedding Shape (B, L_orig+1, E): {full_embedding.shape}\")\n",
    "print(f\"Output Padding Mask Shape (B, L_orig+1): {padding_mask.shape}\")\n",
    "if mask is not None:\n",
    "    print(f\"Output Mask Shape (B, L_orig): {mask.shape}\")\n",
    "else:\n",
    "    print(\"Masking disabled, output mask is None.\")\n",
    "\n",
    "# Expected shapes\n",
    "expected_L_plus_1 = max_seq_len + 1\n",
    "expected_E = config.model.embedding_dim # Or embedding.embedding_dim\n",
    "assert L_plus_1 == expected_L_plus_1, f\"Expected sequence length {expected_L_plus_1}, got {L_plus_1}\"\n",
    "assert E == expected_E, f\"Expected embedding dim {expected_E}, got {E}\"\n",
    "assert L_plus_1_pad == expected_L_plus_1, \"Padding mask seq length mismatch\"\n",
    "if mask is not None:\n",
    "    assert L_mask == max_seq_len, f\"Output mask should have original seq len {max_seq_len}, got {L_mask}\"\n",
    "\n",
    "print(\"\\nShape checks passed!\")"
   ]
  },
  {
   "cell_type": "code",
   "execution_count": 115,
   "id": "d45379b2",
   "metadata": {},
   "outputs": [
    {
     "name": "stdout",
     "output_type": "stream",
     "text": [
      "CLS token padding check passed.\n",
      "Sequence padding check passed.\n",
      "\n",
      "Example Input Padding (0=PAD):\n",
      "tensor([1307, 2462, 4580, 2696, 4168, 1343, 4512, 2452,  163,  163, 1608, 3944,\n",
      "        3572, 3954,  530, 1303,  277,  967, 4512, 3284, 3284, 3280, 2800, 3720,\n",
      "        3824, 3286, 3280, 3930, 3280, 1280, 1495, 4528, 3284, 3820, 3762, 1495,\n",
      "        1495, 3292, 2752, 3822, 3284, 1497, 4248, 4900, 1959, 4968, 3236, 4716,\n",
      "        5060, 4240, 3954, 3596, 2832, 1688, 4172, 2984,  769, 2772, 3954, 4528,\n",
      "        4512,    0,    0,    0,    0,    0,    0,    0,    0,    0,    0,    0,\n",
      "           0,    0,    0,    0,    0,    0,    0,    0,    0,    0,    0,    0,\n",
      "           0,    0,    0,    0,    0,    0,    0,    0,    0,    0,    0,    0,\n",
      "           0,    0,    0,    0,    0,    0,    0,    0,    0,    0,    0,    0,\n",
      "           0,    0,    0,    0,    0,    0,    0,    0,    0,    0,    0,    0,\n",
      "           0,    0,    0,    0,    0,    0,    0])\n",
      "\n",
      "Example Final Padding Mask (True=PAD):\n",
      "tensor([False, False, False, False, False, False, False, False, False, False,\n",
      "        False, False, False, False, False, False, False, False, False, False,\n",
      "        False, False, False, False, False, False, False, False, False, False,\n",
      "        False, False, False, False, False, False, False, False, False, False,\n",
      "        False, False, False, False, False, False, False, False, False, False,\n",
      "        False, False, False, False, False, False, False, False, False, False,\n",
      "        False, False,  True,  True,  True,  True,  True,  True,  True,  True,\n",
      "         True,  True,  True,  True,  True,  True,  True,  True,  True,  True,\n",
      "         True,  True,  True,  True,  True,  True,  True,  True,  True,  True,\n",
      "         True,  True,  True,  True,  True,  True,  True,  True,  True,  True,\n",
      "         True,  True,  True,  True,  True,  True,  True,  True,  True,  True,\n",
      "         True,  True,  True,  True,  True,  True,  True,  True,  True,  True,\n",
      "         True,  True,  True,  True,  True,  True,  True,  True])\n"
     ]
    }
   ],
   "source": [
    "# --- Check Padding Mask ---\n",
    "input_padding = (x[:, :, 3] == PAD_IDX) # Assuming PAD_IDX = 0 for DOM input\n",
    "\n",
    "# Check CLS token padding (should always be False)\n",
    "assert not torch.any(padding_mask[:, 0]), \"CLS token position should not be padded\"\n",
    "print(\"CLS token padding check passed.\")\n",
    "\n",
    "# Check sequence padding matches input\n",
    "# Compare padding_mask[:, 1:] with input_padding\n",
    "# Need to handle potential length mismatch if l causes padding_mask to be shorter\n",
    "len_diff = padding_mask.shape[1] - 1 - input_padding.shape[1]\n",
    "if len_diff < 0: # Should not happen if max_seq_len is correct\n",
    "     print(\"Warning: padding_mask shorter than input_padding\")\n",
    "     seq_len_to_compare = padding_mask.shape[1] - 1\n",
    "else:\n",
    "     seq_len_to_compare = input_padding.shape[1]\n",
    "\n",
    "match = torch.all(padding_mask[:, 1:1+seq_len_to_compare] == input_padding[:, :seq_len_to_compare])\n",
    "assert match, \"Padding mask for sequence doesn't match input padding\"\n",
    "print(\"Sequence padding check passed.\")\n",
    "\n",
    "# Visually inspect a sample\n",
    "print(\"\\nExample Input Padding (0=PAD):\")\n",
    "print(x[0, :, 3].long())\n",
    "print(\"\\nExample Final Padding Mask (True=PAD):\")\n",
    "print(padding_mask[0])"
   ]
  },
  {
   "cell_type": "code",
   "execution_count": 116,
   "id": "dacb7ef1",
   "metadata": {},
   "outputs": [
    {
     "name": "stdout",
     "output_type": "stream",
     "text": [
      "\n",
      "--- Masking Checks ---\n",
      "Masking vs Padding check passed.\n",
      "Masking vs Auxiliary check passed.\n",
      "Number of eligible tokens for masking: 686\n",
      "Number of tokens actually masked: 169\n",
      "Actual masking probability: 0.2464 (Target: 0.25)\n",
      "Masking probability check passed (approx).\n"
     ]
    }
   ],
   "source": [
    "# --- Check Output Mask ---\n",
    "if mask is not None:\n",
    "    print(\"\\n--- Masking Checks ---\")\n",
    "    # 1. Mask should only be True where input wasn't padded\n",
    "    input_padding_orig = (x[:, :, 3] == PAD_IDX) # Recalculate just in case\n",
    "    assert not torch.any(mask & input_padding_orig), \"Mask should not be True in padded positions\"\n",
    "    print(\"Masking vs Padding check passed.\")\n",
    "\n",
    "    # 2. Mask should only be True for non-auxiliary pulses\n",
    "    # Original aux feature: x[:, :, 2] == -0.5 for non-aux, 0.5 for aux\n",
    "    is_auxiliary = (x[:, :, 2] > 0) # Check where original aux was True (0.5)\n",
    "    assert not torch.any(mask & is_auxiliary), \"Mask should not be True for auxiliary pulses\"\n",
    "    print(\"Masking vs Auxiliary check passed.\")\n",
    "\n",
    "    # 3. Check masking probability (approximate)\n",
    "    non_pad_non_aux_mask = (~input_padding_orig) & (~is_auxiliary)\n",
    "    num_eligible = non_pad_non_aux_mask.sum().item()\n",
    "    num_masked = mask.sum().item()\n",
    "    actual_prob = num_masked / num_eligible if num_eligible > 0 else 0\n",
    "    target_prob = config.model.embedding.masking_prob # Or embedding.mask_prob\n",
    "\n",
    "    print(f\"Number of eligible tokens for masking: {num_eligible}\")\n",
    "    print(f\"Number of tokens actually masked: {num_masked}\")\n",
    "    print(f\"Actual masking probability: {actual_prob:.4f} (Target: {target_prob})\")\n",
    "    # Check if it's reasonably close (allow some variance due to randomness)\n",
    "    if num_eligible > 100: # Only check if enough samples\n",
    "        assert abs(actual_prob - target_prob) < 0.1, \"Actual masking prob seems too far from target\" # Adjust tolerance\n",
    "        print(\"Masking probability check passed (approx).\")\n",
    "    else:\n",
    "        print(\"Skipping probability check (too few eligible tokens).\")\n",
    "\n",
    "else:\n",
    "    print(\"\\nMasking not enabled, skipping mask checks.\")"
   ]
  },
  {
   "cell_type": "code",
   "execution_count": 117,
   "id": "5f3194af",
   "metadata": {},
   "outputs": [
    {
     "name": "stdout",
     "output_type": "stream",
     "text": [
      "\n",
      "--- Embedding Value Checks ---\n",
      "Sample embedding vector at a padded position: tensor([0., 0., 0., 0., 0., 0., 0., 0., 0., 0.], grad_fn=<SliceBackward0>)...\n",
      "Padded embedding vector is close to zero (as expected for padding_idx=0).\n"
     ]
    }
   ],
   "source": [
    "# --- Check Embedding Values ---\n",
    "print(\"\\n--- Embedding Value Checks ---\")\n",
    "\n",
    "# Check embedding for PAD index in time/dom (should ideally be zeros or non-updated)\n",
    "# Note: requires accessing internal indices calculated in forward, which we didn't return.\n",
    "# This check is easier within a formal test or by modifying forward to return indices.\n",
    "# For now, let's check the output embedding where padding_mask is True\n",
    "\n",
    "padded_embed_indices = padding_mask[:, 1:].nonzero(as_tuple=False) # Get indices where padding is True\n",
    "if padded_embed_indices.shape[0] > 0:\n",
    "    sample_pad_idx = padded_embed_indices[0] # Get coords of first padded element\n",
    "    # Get embedding vector for the first padded position (after CLS)\n",
    "    padded_vector = full_embedding[sample_pad_idx[0], sample_pad_idx[1] + 1, :]\n",
    "    print(f\"Sample embedding vector at a padded position: {padded_vector[:10]}...\") # Print first few dims\n",
    "    # Often padding idx vector is zeros. Check if sum is close to zero.\n",
    "    # Note: Can have non-zero gradients if not explicitly excluded in rare optimizer cases, but usually zero.\n",
    "    if torch.allclose(padded_vector, torch.zeros_like(padded_vector), atol=1e-6):\n",
    "         print(\"Padded embedding vector is close to zero (as expected for padding_idx=0).\")\n",
    "    else:\n",
    "         print(\"Padded embedding vector is non-zero (might be ok if padding_idx is learned/not 0).\")\n",
    "\n",
    "\n",
    "# Check embedding for MASK index (if using index replacement & masking enabled)\n",
    "# This also requires accessing the final indices passed to nn.Embedding.\n",
    "# If using the single mask_token_embed approach (recommended):\n",
    "if mask is not None and hasattr(embedding, 'mask_token_embed'):\n",
    "     masked_indices = mask.nonzero(as_tuple=False)\n",
    "     if masked_indices.shape[0] > 0:\n",
    "          sample_mask_idx = masked_indices[0]\n",
    "          # Get embedding vector for the first masked position (after CLS)\n",
    "          masked_vector = full_embedding[sample_mask_idx[0], sample_mask_idx[1] + 1, :]\n",
    "          mask_token_param = embedding.mask_token_embed.squeeze()\n",
    "          print(f\"Sample embedding vector at a masked position: {masked_vector[:10]}...\")\n",
    "          print(f\"Learned mask_token_embed: {mask_token_param[:10]}...\")\n",
    "          if torch.allclose(masked_vector, mask_token_param, atol=1e-6):\n",
    "               print(\"Masked embedding vector matches mask_token_embed parameter.\")\n",
    "          else:\n",
    "               print(\"WARNING: Masked embedding vector does NOT match mask_token_embed parameter!\")"
   ]
  },
  {
   "cell_type": "code",
   "execution_count": 119,
   "id": "6e6ea6e9",
   "metadata": {},
   "outputs": [
    {
     "name": "stdout",
     "output_type": "stream",
     "text": [
      "\n",
      "Input tensor device: cpu\n",
      "Embedding layer device: cpu\n",
      "Output embedding device: cpu\n",
      "Device consistency check passed.\n"
     ]
    }
   ],
   "source": [
    "# --- Check Device ---\n",
    "print(f\"\\nInput tensor device: {x.device}\")\n",
    "print(f\"Embedding layer device: {next(embedding.parameters()).device}\")\n",
    "print(f\"Output embedding device: {full_embedding.device}\")\n",
    "assert x.device == next(embedding.parameters()).device == full_embedding.device, \"Device mismatch!\"\n",
    "print(\"Device consistency check passed.\")"
   ]
  },
  {
   "cell_type": "code",
   "execution_count": null,
   "id": "39bda4ae",
   "metadata": {},
   "outputs": [],
   "source": [
    "#TODO convret those checks to pytest tests!"
   ]
  }
 ],
 "metadata": {
  "kernelspec": {
   "display_name": "polarbert",
   "language": "python",
   "name": "python3"
  },
  "language_info": {
   "codemirror_mode": {
    "name": "ipython",
    "version": 3
   },
   "file_extension": ".py",
   "mimetype": "text/x-python",
   "name": "python",
   "nbconvert_exporter": "python",
   "pygments_lexer": "ipython3",
   "version": "3.11.10"
  }
 },
 "nbformat": 4,
 "nbformat_minor": 5
}
